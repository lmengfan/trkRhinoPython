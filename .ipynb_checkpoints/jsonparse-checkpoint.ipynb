{
 "cells": [
  {
   "cell_type": "code",
   "execution_count": 1,
   "metadata": {},
   "outputs": [],
   "source": [
    "import pandas as pd\n",
    "import json\n",
    "pd.set_option('display.max_columns', None)"
   ]
  },
  {
   "cell_type": "code",
   "execution_count": 4,
   "metadata": {},
   "outputs": [],
   "source": [
    "f_in = open(r\"D:\\GitHub\\trkRhinoPython\\datastore.json\", 'r')"
   ]
  },
  {
   "cell_type": "code",
   "execution_count": 5,
   "metadata": {},
   "outputs": [],
   "source": [
    "objsdict = json.load(f_in)"
   ]
  },
  {
   "cell_type": "code",
   "execution_count": 6,
   "metadata": {},
   "outputs": [
    {
     "name": "stdout",
     "output_type": "stream",
     "text": [
      "<class 'list'>\n"
     ]
    }
   ],
   "source": [
    "print(type(objsdict))"
   ]
  },
  {
   "cell_type": "code",
   "execution_count": 9,
   "metadata": {},
   "outputs": [],
   "source": [
    "df = pd.DataFrame.from_records(objsdict)"
   ]
  },
  {
   "cell_type": "code",
   "execution_count": 11,
   "metadata": {},
   "outputs": [
    {
     "data": {
      "text/html": [
       "<div>\n",
       "<style scoped>\n",
       "    .dataframe tbody tr th:only-of-type {\n",
       "        vertical-align: middle;\n",
       "    }\n",
       "\n",
       "    .dataframe tbody tr th {\n",
       "        vertical-align: top;\n",
       "    }\n",
       "\n",
       "    .dataframe thead th {\n",
       "        text-align: right;\n",
       "    }\n",
       "</style>\n",
       "<table border=\"1\" class=\"dataframe\">\n",
       "  <thead>\n",
       "    <tr style=\"text-align: right;\">\n",
       "      <th></th>\n",
       "      <th>level</th>\n",
       "      <th>func</th>\n",
       "      <th>zone</th>\n",
       "      <th>grade</th>\n",
       "      <th>class</th>\n",
       "      <th>uid</th>\n",
       "      <th>areapy</th>\n",
       "      <th>area</th>\n",
       "      <th>usage</th>\n",
       "    </tr>\n",
       "  </thead>\n",
       "  <tbody>\n",
       "    <tr>\n",
       "      <th>0</th>\n",
       "      <td>10</td>\n",
       "      <td>units</td>\n",
       "      <td>2</td>\n",
       "      <td>AG</td>\n",
       "      <td>units</td>\n",
       "      <td>uid-1</td>\n",
       "      <td>19.96</td>\n",
       "      <td>66.0</td>\n",
       "      <td>ot</td>\n",
       "    </tr>\n",
       "    <tr>\n",
       "      <th>1</th>\n",
       "      <td>9</td>\n",
       "      <td>units</td>\n",
       "      <td>2</td>\n",
       "      <td>AG</td>\n",
       "      <td>units</td>\n",
       "      <td>uid-2</td>\n",
       "      <td>16.37</td>\n",
       "      <td>54.12</td>\n",
       "      <td>ot</td>\n",
       "    </tr>\n",
       "    <tr>\n",
       "      <th>2</th>\n",
       "      <td>8</td>\n",
       "      <td>units</td>\n",
       "      <td>2</td>\n",
       "      <td>AG</td>\n",
       "      <td>units</td>\n",
       "      <td>uid-3</td>\n",
       "      <td>16.37</td>\n",
       "      <td>54.12</td>\n",
       "      <td>ot</td>\n",
       "    </tr>\n",
       "    <tr>\n",
       "      <th>3</th>\n",
       "      <td>7</td>\n",
       "      <td>units</td>\n",
       "      <td>2</td>\n",
       "      <td>AG</td>\n",
       "      <td>units</td>\n",
       "      <td>uid-4</td>\n",
       "      <td>16.37</td>\n",
       "      <td>54.12</td>\n",
       "      <td>ot</td>\n",
       "    </tr>\n",
       "    <tr>\n",
       "      <th>4</th>\n",
       "      <td>10</td>\n",
       "      <td>units</td>\n",
       "      <td>2</td>\n",
       "      <td>AG</td>\n",
       "      <td>units</td>\n",
       "      <td>uid-5</td>\n",
       "      <td>19.96</td>\n",
       "      <td>66.0</td>\n",
       "      <td>ot</td>\n",
       "    </tr>\n",
       "  </tbody>\n",
       "</table>\n",
       "</div>"
      ],
      "text/plain": [
       "  level   func zone grade  class    uid areapy   area usage\n",
       "0    10  units    2    AG  units  uid-1  19.96   66.0    ot\n",
       "1     9  units    2    AG  units  uid-2  16.37  54.12    ot\n",
       "2     8  units    2    AG  units  uid-3  16.37  54.12    ot\n",
       "3     7  units    2    AG  units  uid-4  16.37  54.12    ot\n",
       "4    10  units    2    AG  units  uid-5  19.96   66.0    ot"
      ]
     },
     "execution_count": 11,
     "metadata": {},
     "output_type": "execute_result"
    }
   ],
   "source": [
    "df.head()"
   ]
  },
  {
   "cell_type": "code",
   "execution_count": 12,
   "metadata": {},
   "outputs": [
    {
     "name": "stdout",
     "output_type": "stream",
     "text": [
      "<class 'pandas.core.frame.DataFrame'>\n",
      "RangeIndex: 873 entries, 0 to 872\n",
      "Data columns (total 9 columns):\n",
      "level     873 non-null object\n",
      "func      873 non-null object\n",
      "zone      873 non-null object\n",
      "grade     873 non-null object\n",
      "class     873 non-null object\n",
      "uid       873 non-null object\n",
      "areapy    873 non-null object\n",
      "area      873 non-null object\n",
      "usage     873 non-null object\n",
      "dtypes: object(9)\n",
      "memory usage: 61.5+ KB\n"
     ]
    }
   ],
   "source": [
    "df.info()"
   ]
  },
  {
   "cell_type": "code",
   "execution_count": 13,
   "metadata": {},
   "outputs": [],
   "source": [
    "df[['areapy', 'area']] = df[['areapy', 'area']].apply(pd.to_numeric)"
   ]
  },
  {
   "cell_type": "code",
   "execution_count": 14,
   "metadata": {},
   "outputs": [
    {
     "name": "stdout",
     "output_type": "stream",
     "text": [
      "<class 'pandas.core.frame.DataFrame'>\n",
      "RangeIndex: 873 entries, 0 to 872\n",
      "Data columns (total 9 columns):\n",
      "level     873 non-null object\n",
      "func      873 non-null object\n",
      "zone      873 non-null object\n",
      "grade     873 non-null object\n",
      "class     873 non-null object\n",
      "uid       873 non-null object\n",
      "areapy    873 non-null float64\n",
      "area      873 non-null float64\n",
      "usage     873 non-null object\n",
      "dtypes: float64(2), object(7)\n",
      "memory usage: 61.5+ KB\n"
     ]
    }
   ],
   "source": [
    "df.info()"
   ]
  },
  {
   "cell_type": "code",
   "execution_count": 15,
   "metadata": {},
   "outputs": [
    {
     "data": {
      "text/html": [
       "<div>\n",
       "<style scoped>\n",
       "    .dataframe tbody tr th:only-of-type {\n",
       "        vertical-align: middle;\n",
       "    }\n",
       "\n",
       "    .dataframe tbody tr th {\n",
       "        vertical-align: top;\n",
       "    }\n",
       "\n",
       "    .dataframe thead th {\n",
       "        text-align: right;\n",
       "    }\n",
       "</style>\n",
       "<table border=\"1\" class=\"dataframe\">\n",
       "  <thead>\n",
       "    <tr style=\"text-align: right;\">\n",
       "      <th></th>\n",
       "      <th>level</th>\n",
       "      <th>func</th>\n",
       "      <th>zone</th>\n",
       "      <th>grade</th>\n",
       "      <th>class</th>\n",
       "      <th>uid</th>\n",
       "      <th>areapy</th>\n",
       "      <th>area</th>\n",
       "      <th>usage</th>\n",
       "    </tr>\n",
       "  </thead>\n",
       "  <tbody>\n",
       "    <tr>\n",
       "      <th>0</th>\n",
       "      <td>10</td>\n",
       "      <td>units</td>\n",
       "      <td>2</td>\n",
       "      <td>AG</td>\n",
       "      <td>units</td>\n",
       "      <td>uid-1</td>\n",
       "      <td>19.96</td>\n",
       "      <td>66.00</td>\n",
       "      <td>ot</td>\n",
       "    </tr>\n",
       "    <tr>\n",
       "      <th>1</th>\n",
       "      <td>9</td>\n",
       "      <td>units</td>\n",
       "      <td>2</td>\n",
       "      <td>AG</td>\n",
       "      <td>units</td>\n",
       "      <td>uid-2</td>\n",
       "      <td>16.37</td>\n",
       "      <td>54.12</td>\n",
       "      <td>ot</td>\n",
       "    </tr>\n",
       "    <tr>\n",
       "      <th>2</th>\n",
       "      <td>8</td>\n",
       "      <td>units</td>\n",
       "      <td>2</td>\n",
       "      <td>AG</td>\n",
       "      <td>units</td>\n",
       "      <td>uid-3</td>\n",
       "      <td>16.37</td>\n",
       "      <td>54.12</td>\n",
       "      <td>ot</td>\n",
       "    </tr>\n",
       "    <tr>\n",
       "      <th>3</th>\n",
       "      <td>7</td>\n",
       "      <td>units</td>\n",
       "      <td>2</td>\n",
       "      <td>AG</td>\n",
       "      <td>units</td>\n",
       "      <td>uid-4</td>\n",
       "      <td>16.37</td>\n",
       "      <td>54.12</td>\n",
       "      <td>ot</td>\n",
       "    </tr>\n",
       "    <tr>\n",
       "      <th>4</th>\n",
       "      <td>10</td>\n",
       "      <td>units</td>\n",
       "      <td>2</td>\n",
       "      <td>AG</td>\n",
       "      <td>units</td>\n",
       "      <td>uid-5</td>\n",
       "      <td>19.96</td>\n",
       "      <td>66.00</td>\n",
       "      <td>ot</td>\n",
       "    </tr>\n",
       "  </tbody>\n",
       "</table>\n",
       "</div>"
      ],
      "text/plain": [
       "  level   func zone grade  class    uid  areapy   area usage\n",
       "0    10  units    2    AG  units  uid-1   19.96  66.00    ot\n",
       "1     9  units    2    AG  units  uid-2   16.37  54.12    ot\n",
       "2     8  units    2    AG  units  uid-3   16.37  54.12    ot\n",
       "3     7  units    2    AG  units  uid-4   16.37  54.12    ot\n",
       "4    10  units    2    AG  units  uid-5   19.96  66.00    ot"
      ]
     },
     "execution_count": 15,
     "metadata": {},
     "output_type": "execute_result"
    }
   ],
   "source": [
    "df.head()"
   ]
  },
  {
   "cell_type": "code",
   "execution_count": null,
   "metadata": {},
   "outputs": [],
   "source": []
  }
 ],
 "metadata": {
  "kernelspec": {
   "display_name": "Python 3",
   "language": "python",
   "name": "python3"
  },
  "language_info": {
   "codemirror_mode": {
    "name": "ipython",
    "version": 3
   },
   "file_extension": ".py",
   "mimetype": "text/x-python",
   "name": "python",
   "nbconvert_exporter": "python",
   "pygments_lexer": "ipython3",
   "version": "3.7.3"
  }
 },
 "nbformat": 4,
 "nbformat_minor": 4
}
